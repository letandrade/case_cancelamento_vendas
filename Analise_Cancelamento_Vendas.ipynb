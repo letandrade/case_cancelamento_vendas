{
 "cells": [
  {
   "cell_type": "markdown",
   "metadata": {},
   "source": [
    "# <center>Análise de cancelamento de vendas</center>\n",
    "___"
   ]
  },
  {
   "cell_type": "markdown",
   "metadata": {},
   "source": [
    "### 1.0 Bibliotecas"
   ]
  },
  {
   "cell_type": "code",
   "execution_count": null,
   "metadata": {},
   "outputs": [],
   "source": [
    "#transformação\n",
    "import pandas as pd\n",
    "import numpy as np\n",
    "from datetime import datetime\n",
    "import warnings \n",
    "warnings.filterwarnings('ignore')\n",
    "\n",
    "# visualização\n",
    "import matplotlib.pyplot as plt\n",
    "import seaborn as sns\n",
    "\n",
    "#classificação\n",
    "from sklearn.model_selection import train_test_split\n",
    "from sklearn.metrics import classification_report, confusion_matrix, roc_curve, roc_auc_score\n",
    "from sklearn.model_selection import cross_val_score \n",
    "from sklearn.model_selection import StratifiedKFold\n",
    "from sklearn.model_selection import GridSearchCV, KFold\n",
    "from catboost import CatBoostClassifier\n",
    "\n",
    "#serializar modelo\n",
    "import pickle"
   ]
  },
  {
   "cell_type": "markdown",
   "metadata": {},
   "source": [
    "### 2.0 Importar dados"
   ]
  },
  {
   "cell_type": "code",
   "execution_count": null,
   "metadata": {},
   "outputs": [],
   "source": [
    "#importar a base\n",
    "base_varejo = pd.read_csv('online_retail_II.csv', sep = ';', decimal=',', header=0, encoding='latin1')"
   ]
  },
  {
   "cell_type": "code",
   "execution_count": null,
   "metadata": {},
   "outputs": [],
   "source": [
    "#visualizar base\n",
    "base_varejo"
   ]
  },
  {
   "cell_type": "code",
   "execution_count": null,
   "metadata": {},
   "outputs": [],
   "source": [
    "#shape\n",
    "base_varejo.shape"
   ]
  },
  {
   "cell_type": "code",
   "execution_count": null,
   "metadata": {},
   "outputs": [],
   "source": [
    "#verificar tipo de dados\n",
    "base_varejo.info()"
   ]
  },
  {
   "cell_type": "code",
   "execution_count": null,
   "metadata": {},
   "outputs": [],
   "source": [
    "#resumo quantitativo\n",
    "base_varejo.describe()"
   ]
  },
  {
   "cell_type": "code",
   "execution_count": null,
   "metadata": {},
   "outputs": [],
   "source": [
    "#verificar obs vazias\n",
    "base_varejo.isna().sum()\n",
    "\n",
    "#Descrição           4382\n",
    "#ClienteID         243007"
   ]
  },
  {
   "cell_type": "code",
   "execution_count": null,
   "metadata": {},
   "outputs": [],
   "source": [
    "#excluir as linhas com ClienteID vazias\n",
    "base_varejo.dropna(subset=['ClienteID'], inplace=True)\n",
    "base_varejo.reset_index(drop=True, inplace=True)"
   ]
  },
  {
   "cell_type": "code",
   "execution_count": null,
   "metadata": {},
   "outputs": [],
   "source": [
    "#Retirando da base código de estoque 'M', 'AMAZONFEE'\n",
    "base_varejo = base_varejo[~base_varejo['Código_Estoque'].isin(['M', 'AMAZONFEE'])]\n",
    "base_varejo.reset_index(drop=True, inplace=True)"
   ]
  },
  {
   "cell_type": "code",
   "execution_count": null,
   "metadata": {},
   "outputs": [],
   "source": [
    "#alterar tipo de variável\n",
    "base_varejo['Data_Fatura'] = pd.to_datetime(base_varejo['Data_Fatura'], infer_datetime_format = True, format=\"%d/%m/%Y\")\n",
    "base_varejo['ClienteID'] = round(base_varejo['ClienteID'])\n",
    "base_varejo['ClienteID'] = base_varejo['ClienteID'].astype('int') #arredondar valor\n",
    "base_varejo['ClienteID'] = base_varejo['ClienteID'].astype('str')"
   ]
  },
  {
   "cell_type": "code",
   "execution_count": null,
   "metadata": {},
   "outputs": [],
   "source": [
    "#criar coluna de mês e ano\n",
    "base_varejo['Mês'] = base_varejo['Data_Fatura'].dt.month\n",
    "base_varejo['Ano'] = base_varejo['Data_Fatura'].dt.year"
   ]
  },
  {
   "cell_type": "code",
   "execution_count": null,
   "metadata": {},
   "outputs": [],
   "source": [
    "# Função para converter uma string em um objeto datetime\n",
    "def converter_para_hora(hora_str):\n",
    "    return datetime.strptime(hora_str, '%H:%M:%S')\n",
    "\n",
    "# Aplicar a função à coluna 'Hora_Fatura' e criar uma nova coluna 'hora'\n",
    "base_varejo['Hora_Fatura'] = base_varejo['Hora_Fatura'].apply(converter_para_hora)"
   ]
  },
  {
   "cell_type": "code",
   "execution_count": null,
   "metadata": {},
   "outputs": [],
   "source": [
    "#verificar obs vazias\n",
    "base_varejo.isna().sum()"
   ]
  },
  {
   "cell_type": "code",
   "execution_count": null,
   "metadata": {},
   "outputs": [],
   "source": [
    "#verificar tipo de dados\n",
    "base_varejo.info()"
   ]
  },
  {
   "cell_type": "code",
   "execution_count": null,
   "metadata": {},
   "outputs": [],
   "source": [
    "#visualizar base\n",
    "base_varejo"
   ]
  },
  {
   "cell_type": "markdown",
   "metadata": {},
   "source": [
    "### 3.0 EDA - Análise exploratória de dados"
   ]
  },
  {
   "cell_type": "code",
   "execution_count": null,
   "metadata": {},
   "outputs": [],
   "source": [
    "#identificando as transações canceladas\n",
    "base_varejo['Canceladas'] = ['Sim' if  base_varejo['Fatura'][i][0] == 'C' else 'Não' for i in range(0, len(base_varejo))]"
   ]
  },
  {
   "cell_type": "code",
   "execution_count": null,
   "metadata": {},
   "outputs": [],
   "source": [
    "#Vendas\n",
    "base_varejo['Vendas'] = base_varejo['Quantidade']*base_varejo['Preço']"
   ]
  },
  {
   "cell_type": "code",
   "execution_count": null,
   "metadata": {},
   "outputs": [],
   "source": [
    "#métricas ipc\n",
    "print('Total de transações canceladas: ' + str(base_varejo['Canceladas'].value_counts().get('Sim', 0)))\n",
    "print('\\nProporção de transações canceladas: ' + str((base_varejo['Canceladas'].value_counts().get('Sim', 0) / len(base_varejo['Canceladas'])) * 100))\n",
    "print('\\nValor de transações canceladas: ' + str(base_varejo['Vendas'][base_varejo['Canceladas'] == 'Sim'].sum()))\n",
    "print('\\nProporção de transações canceladas: ' + str((base_varejo['Vendas'][base_varejo['Canceladas'] == 'Sim'].sum()/base_varejo['Vendas'].sum()) * 100))"
   ]
  },
  {
   "cell_type": "code",
   "execution_count": null,
   "metadata": {},
   "outputs": [],
   "source": [
    "#Vendas canceladas por País\n",
    "df_vendas_pais = pd.DataFrame(base_varejo[base_varejo['Canceladas'] == 'Sim'].groupby('País')['Quantidade','Vendas'].sum()).reset_index().sort_values(by=['Vendas'])\n",
    "df_vendas_pais[\"%\"] = df_vendas_pais[\"Vendas\"]/df_vendas_pais[\"Vendas\"].sum() * 100\n",
    "df_vendas_pais[\"%_Acc\"] = df_vendas_pais[\"%\"].cumsum()\n",
    "df_vendas_pais = df_vendas_pais.reset_index(drop=True)\n",
    "df_vendas_pais"
   ]
  },
  {
   "cell_type": "code",
   "execution_count": null,
   "metadata": {},
   "outputs": [],
   "source": [
    "#cria um barplot, define os eixos e a paleta de cores usada para colorir as barras\n",
    "plt.figure(figsize=(20,5))\n",
    "ax = sns.barplot(x=df_vendas_pais[\"País\"], y=abs(df_vendas_pais[\"Vendas\"]), palette=\"RdYlBu\")\n",
    "ax.set_title(\"Análise de Pareto - Valor de vendas canceladas por País\", fontsize = 20)\n",
    "ax2 = ax.twinx()# Eixo secundário\n",
    "\n",
    "# Cria a Curva de Pareto no eixo secundário\n",
    "ax2.plot(df_vendas_pais[\"País\"], df_vendas_pais[\"%_Acc\"], color=\"g\", marker=\"D\", ms=7, label='Pareto')\n",
    "\n",
    "# Configurações dos eixos \n",
    "ax2.tick_params(axis=\"y\", colors=\"g\")\n",
    "ax2.set_ylim([0,110])\n",
    "\n",
    "# Ajusta a inclinação dos labels do eixo x\n",
    "for tick in ax.get_xticklabels():\n",
    "    tick.set_rotation(45)\n",
    "\n",
    "# Mostra os labels com a percentagem acumulada em cada ponto\n",
    "gap = 5\n",
    "for i in range(len(df_vendas_pais[\"%_Acc\"])):\n",
    "    ax2.annotate(\"%.1f\" % df_vendas_pais[\"%_Acc\"][i], (df_vendas_pais[\"País\"][i], df_vendas_pais[\"%_Acc\"][i] + gap))"
   ]
  },
  {
   "cell_type": "code",
   "execution_count": null,
   "metadata": {},
   "outputs": [],
   "source": [
    "print('Valor de cancelamentos de venda no UK: ' + str(-base_varejo['Vendas'][(base_varejo['Canceladas'] == 'Sim') & (base_varejo['País'] == 'United Kingdom')].sum())+ str(' Libras'))"
   ]
  },
  {
   "cell_type": "code",
   "execution_count": null,
   "metadata": {},
   "outputs": [],
   "source": [
    "#Qtd canceladas por País\n",
    "df_qtd_pais = pd.DataFrame(base_varejo[base_varejo['Canceladas'] == 'Sim'].groupby('País')['Quantidade'].sum()).reset_index().sort_values(by=['Quantidade'])\n",
    "df_qtd_pais[\"%\"] = df_qtd_pais[\"Quantidade\"]/df_qtd_pais[\"Quantidade\"].sum() * 100\n",
    "df_qtd_pais[\"%_Acc\"] = df_qtd_pais[\"%\"].cumsum()\n",
    "df_qtd_pais = df_qtd_pais.reset_index(drop=True)\n",
    "df_qtd_pais"
   ]
  },
  {
   "cell_type": "code",
   "execution_count": null,
   "metadata": {},
   "outputs": [],
   "source": [
    "# Cria um barplot, define os eixos e a paleta de cores usada para colorir as barras\n",
    "plt.figure(figsize=(20,5))\n",
    "ax = sns.barplot(x=df_qtd_pais[\"País\"], y=abs(df_qtd_pais[\"Quantidade\"]), palette=\"RdYlBu\")\n",
    "ax.set_title(\"Análise de Pareto - Quantidade de itens cancelados por País\", fontsize=20) # define e ajusta o tamanho da fonte do título\n",
    "\n",
    "# Eixo secundário\n",
    "ax2 = ax.twinx()\n",
    "\n",
    "# Cria a Curva de Pareto no eixo secundário\n",
    "ax2.plot(df_qtd_pais[\"País\"], df_qtd_pais[\"%_Acc\"], color=\"g\", marker=\"D\", ms=7, label='Pareto')\n",
    "\n",
    "# Configurações dos eixos \n",
    "ax2.tick_params(axis=\"y\", colors=\"g\")\n",
    "ax2.set_ylim([0,110])\n",
    "\n",
    "# Ajusta a inclinação dos labels do eixo x\n",
    "for tick in ax.get_xticklabels():\n",
    "    tick.set_rotation(45)\n",
    "\n",
    "# Mostra os labels com a percentagem acumulada em cada ponto\n",
    "gap = 5\n",
    "for i in range(len(df_qtd_pais[\"%_Acc\"])):\n",
    "    ax2.annotate(\"%.1f\" % df_qtd_pais[\"%_Acc\"][i], (df_qtd_pais[\"País\"][i], df_qtd_pais[\"%_Acc\"][i] + gap))"
   ]
  },
  {
   "cell_type": "code",
   "execution_count": null,
   "metadata": {},
   "outputs": [],
   "source": [
    "print('Qtd de cancelamentos de venda no UK: ' + str(-base_varejo['Quantidade'][(base_varejo['Canceladas'] == 'Sim') & (base_varejo['País'] == 'United Kingdom')].sum()))"
   ]
  },
  {
   "cell_type": "markdown",
   "metadata": {},
   "source": [
    "### 4.0 United Kingdom - EDA"
   ]
  },
  {
   "cell_type": "code",
   "execution_count": null,
   "metadata": {},
   "outputs": [],
   "source": [
    "base_varejo_uk = base_varejo[base_varejo['País'] == 'United Kingdom']\n",
    "base_varejo_uk = base_varejo_uk.reset_index(drop=True)"
   ]
  },
  {
   "cell_type": "code",
   "execution_count": null,
   "metadata": {},
   "outputs": [],
   "source": [
    "base_varejo_uk "
   ]
  },
  {
   "cell_type": "code",
   "execution_count": null,
   "metadata": {},
   "outputs": [],
   "source": [
    "# análise dos dados com profile\n",
    "profile_base = ProfileReport(base_varejo_uk)\n",
    "profile_base"
   ]
  },
  {
   "cell_type": "code",
   "execution_count": null,
   "metadata": {},
   "outputs": [],
   "source": [
    "#métricas ipc \n",
    "\n",
    "#transações\n",
    "total_transacoes_canceladas = base_varejo_uk['Fatura'][base_varejo_uk['Canceladas']=='Sim'].nunique()\n",
    "total_transacoes = base_varejo_uk['Fatura'].nunique()\n",
    "prop_transacoes_canceladas = (total_transacoes_canceladas/total_transacoes)*100\n",
    "\n",
    "#itens\n",
    "qtd_itens_cancelados = - base_varejo_uk['Quantidade'][base_varejo_uk['Canceladas']=='Sim'].sum()\n",
    "qtd_itens_total = base_varejo_uk['Quantidade'].sum()\n",
    "prop_qtd_cancelada = (qtd_itens_cancelados/qtd_itens_total)*100\n",
    "\n",
    "#valor\n",
    "valor_itens_cancelados = - base_varejo_uk['Vendas'][base_varejo_uk['Canceladas']=='Sim'].sum()\n",
    "valor_itens_total = base_varejo_uk['Vendas'].sum()\n",
    "prop_valor_cancelado = (valor_itens_cancelados/valor_itens_total)*100\n",
    "\n",
    "# ticket médio (valor e qtd) e taket time (ritmo)\n",
    "ticket_valor_transacao_cancelada = (valor_itens_cancelados)/total_transacoes_canceladas\n",
    "ticket_qtd_transacao_cancelada = (qtd_itens_cancelados)/total_transacoes_canceladas\n",
    "taket_time_valor_transacao_cancelada = (total_transacoes_canceladas/valor_itens_cancelados)\n",
    "taket_time_qtd_transacao_cancelada = (total_transacoes_canceladas/qtd_itens_cancelados)"
   ]
  },
  {
   "cell_type": "code",
   "execution_count": null,
   "metadata": {},
   "outputs": [],
   "source": [
    "#métricas ipc \n",
    "\n",
    "df_clientes = abs(base_varejo_uk[base_varejo_uk['Canceladas'] == 'Sim'].groupby(['ClienteID']).agg({'Vendas': 'sum','Fatura': 'nunique','Quantidade':'sum','Código_Estoque':'nunique'}))\n",
    "df_clientes = df_clientes.rename(columns={'Vendas': 'Valor de cancelamentos','Fatura': 'Qtd de cancelamentos','Quantidade':'Qtd de itens cancelados', 'Código_Estoque':'Qtd_Itens_Dist'})\n",
    "df_clientes = pd.DataFrame(df_clientes)\n",
    "df_clientes"
   ]
  },
  {
   "cell_type": "code",
   "execution_count": null,
   "metadata": {},
   "outputs": [],
   "source": [
    "print('Total de transações canceladas: ' + str(total_transacoes_canceladas))\n",
    "print('\\nProporção de transações canceladas: '+ str(prop_transacoes_canceladas))\n",
    "print('\\nQtd de itens cancelados: '+ str(qtd_itens_cancelados))\n",
    "print('\\nProporção de itens cancelados: '+ str(prop_qtd_cancelada))\n",
    "print('\\nValor de venda cancelado: '+ str(valor_itens_cancelados))\n",
    "print('\\nProporção do valor de venda de cancelado: '+ str(prop_valor_cancelado))\n",
    "print('\\nTicket médio em valor por transação cancelada: '+ str(ticket_valor_transacao_cancelada))\n",
    "print('\\nTicket médio em qtd por transação cancelada: '+ str(ticket_qtd_transacao_cancelada))\n",
    "print('\\nTaket time em valor por transação cancelada: '+ str(taket_time_valor_transacao_cancelada))\n",
    "print('\\nTaket time em qtd por transação cancelada: '+ str(taket_time_qtd_transacao_cancelada))\n",
    "print('\\nValor médio de cancelamentos para um cliente por transação: '+ str(df_clientes['Valor de cancelamentos'].mean()))\n",
    "print('\\nQuantidade média de cancelamentos para um cliente: '+ str(df_clientes['Qtd de cancelamentos'].mean()))\n",
    "print('\\nQuantidade média de itens cancelados para um cliente: '+ str(df_clientes['Qtd de itens cancelados'].mean()))\n",
    "print('\\nQuantidade média de itens distintos cancelados para um cliente: '+ str(df_clientes['Qtd_Itens_Dist'].mean()))"
   ]
  },
  {
   "cell_type": "code",
   "execution_count": null,
   "metadata": {},
   "outputs": [],
   "source": [
    "#extrair dia da semana\n",
    "base_varejo_uk['Dia_Semana'] = base_varejo_uk['Data_Fatura'].dt.day_name()\n",
    "base_varejo_uk['Dia_Semana'].unique()"
   ]
  },
  {
   "cell_type": "code",
   "execution_count": null,
   "metadata": {},
   "outputs": [],
   "source": [
    "#transformar dia da semana\n",
    "base_varejo_uk['Dia_Semana'] = base_varejo_uk['Dia_Semana'].replace('Monday', 'Segunda')\n",
    "base_varejo_uk['Dia_Semana'] = base_varejo_uk['Dia_Semana'].replace('Tuesday', 'Terça')\n",
    "base_varejo_uk['Dia_Semana'] = base_varejo_uk['Dia_Semana'].replace('Wednesday', 'Quarta')\n",
    "base_varejo_uk['Dia_Semana'] = base_varejo_uk['Dia_Semana'].replace('Thursday', 'Quinta')\n",
    "base_varejo_uk['Dia_Semana'] = base_varejo_uk['Dia_Semana'].replace('Friday', 'Sexta')\n",
    "base_varejo_uk['Dia_Semana'] = base_varejo_uk['Dia_Semana'].replace('Saturday', 'Sábado')\n",
    "base_varejo_uk['Dia_Semana'] = base_varejo_uk['Dia_Semana'].replace('Sunday', 'Domingo')"
   ]
  },
  {
   "cell_type": "code",
   "execution_count": null,
   "metadata": {},
   "outputs": [],
   "source": [
    "#Dia da semana com maior quantidade e valor de venda canceladas\n",
    "#Sexta\n",
    "pd.DataFrame(base_varejo_uk[base_varejo_uk['Canceladas'] == 'Sim'].groupby('Dia_Semana')['Quantidade','Vendas'].sum()).reset_index().sort_values(by=['Vendas'])"
   ]
  },
  {
   "cell_type": "code",
   "execution_count": null,
   "metadata": {},
   "outputs": [],
   "source": [
    "#criar faixa horária\n",
    "def extrair_faixa_hora(x):\n",
    "    if x.hour >= 6 and x.hour < 12:\n",
    "        return 'Manhã'\n",
    "    elif x.hour >= 12 and x.hour < 18:\n",
    "        return 'Tarde'\n",
    "    elif x.hour >= 18 and x.hour < 24:\n",
    "        return 'Noite'\n",
    "    elif x.hour >= 0 and x.hour < 6:\n",
    "        return 'Madrugada'"
   ]
  },
  {
   "cell_type": "code",
   "execution_count": null,
   "metadata": {},
   "outputs": [],
   "source": [
    "base_varejo_uk['Faixa_Hora'] = [extrair_faixa_hora(base_varejo_uk['Hora_Fatura'][i]) for i in range(0, len(base_varejo_uk))]"
   ]
  },
  {
   "cell_type": "code",
   "execution_count": null,
   "metadata": {},
   "outputs": [],
   "source": [
    "base_varejo_uk"
   ]
  },
  {
   "cell_type": "code",
   "execution_count": null,
   "metadata": {},
   "outputs": [],
   "source": [
    "#Faixa horária com maior valor de venda e quantidade de itens de cancelados\n",
    "#Manhã\n",
    "pd.DataFrame(base_varejo_uk[base_varejo_uk['Canceladas'] == 'Sim'].groupby('Faixa_Hora')['Quantidade','Vendas'].sum()).reset_index().sort_values(by=['Vendas'])"
   ]
  },
  {
   "cell_type": "markdown",
   "metadata": {},
   "source": [
    "### 5.0 Evolução dos cancelamentos"
   ]
  },
  {
   "cell_type": "markdown",
   "metadata": {},
   "source": [
    "#### 5.1 Valor e quantidade de cancelamentos por ano"
   ]
  },
  {
   "cell_type": "code",
   "execution_count": null,
   "metadata": {},
   "outputs": [],
   "source": [
    "df_uk = abs(base_varejo_uk[base_varejo_uk['Canceladas'] == 'Sim'].groupby(['Data_Fatura']).agg({'Fatura': 'nunique','Vendas': 'sum',}))\n",
    "df_uk = abs(df_uk.rename(columns={'Fatura': 'Qtd de cancelamentos', 'Vendas': 'Valor de cancelamentos'}))\n",
    "df_uk"
   ]
  },
  {
   "cell_type": "code",
   "execution_count": null,
   "metadata": {},
   "outputs": [],
   "source": [
    "# define frequência mensal\n",
    "df_uk_mes = df_uk[['Valor de cancelamentos','Qtd de cancelamentos']].resample('M').sum()\n",
    "df_uk_mes"
   ]
  },
  {
   "cell_type": "code",
   "execution_count": null,
   "metadata": {},
   "outputs": [],
   "source": [
    "#Evolução dos cancelamentos\n",
    "fig, axs = plt.subplots(nrows=2, ncols=2, figsize=(10, 8))\n",
    "plt.suptitle(\" Valor e quantidade de cancelamentos por ano\", fontsize=16)\n",
    "\n",
    "df_uk_mes[['Valor de cancelamentos']]['2010'].plot(ax=axs[0,0], title='2010')\n",
    "df_uk_mes[['Valor de cancelamentos']]['2011'].plot(ax=axs[0,1], title='2011')\n",
    "df_uk_mes[['Qtd de cancelamentos']]['2010'].plot(ax=axs[1,0], title='2010')\n",
    "df_uk_mes[['Qtd de cancelamentos']]['2011'].plot(ax=axs[1,1], title='2011')\n",
    "\n",
    "\n",
    "plt.tight_layout()\n",
    "plt.show()"
   ]
  },
  {
   "cell_type": "markdown",
   "metadata": {},
   "source": [
    "#### 5.2 Ticket_Medio_Valor e Ticket_Medio_Qtd_Itens por ano"
   ]
  },
  {
   "cell_type": "code",
   "execution_count": null,
   "metadata": {},
   "outputs": [],
   "source": [
    "df_uk2 = abs(base_varejo_uk[base_varejo_uk['Canceladas'] == 'Sim'].groupby(['Data_Fatura']).agg({'Vendas': 'sum','Fatura': 'nunique','Quantidade':'sum'}))\n",
    "df_uk2 = df_uk2.rename(columns={'Vendas': 'Valor de cancelamentos','Fatura': 'Qtd de cancelamentos','Quantidade':'Qtd de itens cancelados'})\n",
    "df_uk2"
   ]
  },
  {
   "cell_type": "code",
   "execution_count": null,
   "metadata": {},
   "outputs": [],
   "source": [
    "df_uk2_mes = df_uk2[['Valor de cancelamentos','Qtd de cancelamentos','Qtd de itens cancelados']].resample('M').sum()\n",
    "df_uk2_mes "
   ]
  },
  {
   "cell_type": "code",
   "execution_count": null,
   "metadata": {},
   "outputs": [],
   "source": [
    "df_uk2_mes['Ticket_Media_Valor'] = df_uk2_mes['Valor de cancelamentos']/df_uk2_mes['Qtd de cancelamentos']\n",
    "df_uk2_mes['Ticket_Media_Qtd_Itens'] = df_uk2_mes['Qtd de itens cancelados']/df_uk2_mes['Qtd de cancelamentos']"
   ]
  },
  {
   "cell_type": "code",
   "execution_count": null,
   "metadata": {},
   "outputs": [],
   "source": [
    "df_uk2_mes"
   ]
  },
  {
   "cell_type": "code",
   "execution_count": null,
   "metadata": {},
   "outputs": [],
   "source": [
    "#Evolução dos cancelamentos\n",
    "#Ticket_Medio_Valor e Ticket_Medio_Qtd_Itens por ano\n",
    "fig, axs = plt.subplots(nrows=2, ncols=2, figsize=(10, 8))\n",
    "plt.suptitle(\"Ticket_Medio_Valor e Ticket_Medio_QtdItens por ano\", fontsize=16)\n",
    "\n",
    "df_uk2_mes[['Ticket_Media_Valor']]['2010'].plot(ax=axs[0,0], title='2010')\n",
    "df_uk2_mes[['Ticket_Media_Valor']]['2011'].plot(ax=axs[0,1], title='2011')\n",
    "df_uk2_mes[['Ticket_Media_Qtd_Itens']]['2010'].plot(ax=axs[1,0], title='2010')\n",
    "df_uk2_mes[['Ticket_Media_Qtd_Itens']]['2011'].plot(ax=axs[1,1], title='2011')\n",
    "\n",
    "\n",
    "plt.tight_layout()\n",
    "plt.show()"
   ]
  },
  {
   "cell_type": "markdown",
   "metadata": {},
   "source": [
    "#### 5.3 Proporção de cancelamentos por ano"
   ]
  },
  {
   "cell_type": "code",
   "execution_count": null,
   "metadata": {},
   "outputs": [],
   "source": [
    "df_uk3 = abs(base_varejo_uk.groupby(['Data_Fatura']).agg({'Canceladas': lambda x: (x == \"Sim\").nunique(),'Fatura': 'nunique'}))\n",
    "df_uk3['Proporção'] = df_uk3['Canceladas']/df_uk3['Fatura']\n",
    "df_uk3_mes = df_uk3[['Proporção']].resample('M').sum()\n",
    "df_uk3_mes"
   ]
  },
  {
   "cell_type": "code",
   "execution_count": null,
   "metadata": {},
   "outputs": [],
   "source": [
    "#Evolução de cancelamentos\n",
    "#Proporção de cancelamentos por ano\n",
    "\n",
    "plt.suptitle(\"Proporção de cancelamentos por ano\", fontsize=16)\n",
    "\n",
    "df_uk3_mes[['Proporção']]['2010'].plot(title='2010')\n",
    "df_uk3_mes[['Proporção']]['2011'].plot(title='2011')"
   ]
  },
  {
   "cell_type": "markdown",
   "metadata": {},
   "source": [
    "### 6.0 Produtos cancelados "
   ]
  },
  {
   "cell_type": "code",
   "execution_count": null,
   "metadata": {},
   "outputs": [],
   "source": [
    "df_produtos = base_varejo_uk[(base_varejo_uk['Canceladas'] == 'Sim')].groupby(['Código_Estoque','Descrição']).agg({'Vendas': 'sum','Fatura': 'nunique','Quantidade':'sum'}).sort_values(by=['Vendas'])\n",
    "df_produtos[\"%\"] = df_produtos['Vendas']/df_produtos['Vendas'].sum() * 100\n",
    "df_produtos[\"%_Acc\"] = df_produtos[\"%\"].cumsum()"
   ]
  },
  {
   "cell_type": "code",
   "execution_count": null,
   "metadata": {},
   "outputs": [],
   "source": [
    "df_produtos"
   ]
  },
  {
   "cell_type": "code",
   "execution_count": null,
   "metadata": {},
   "outputs": [],
   "source": [
    "lista_codigos = ['M','AMAZONFEE','BANK CHARGES','POST','D','CRUK','S']"
   ]
  },
  {
   "cell_type": "code",
   "execution_count": null,
   "metadata": {},
   "outputs": [],
   "source": [
    "df_produtos2 = base_varejo_uk[(base_varejo_uk['Canceladas'] == 'Sim') & (~base_varejo_uk['Código_Estoque'].isin(lista_codigos))].groupby(['Código_Estoque','Descrição']).agg({'Vendas': 'sum','Fatura': 'nunique','Quantidade':'sum'}).sort_values(by=['Vendas'])\n",
    "df_produtos2[\"%\"] = df_produtos2['Vendas']/df_produtos2['Vendas'].sum() * 100\n",
    "df_produtos2[\"%_Acc\"] = df_produtos2[\"%\"].cumsum()"
   ]
  },
  {
   "cell_type": "code",
   "execution_count": null,
   "metadata": {},
   "outputs": [],
   "source": [
    "df_produtos2"
   ]
  },
  {
   "cell_type": "markdown",
   "metadata": {},
   "source": [
    "### 7.0 Modelo"
   ]
  },
  {
   "cell_type": "markdown",
   "metadata": {},
   "source": [
    "#### 7.1 Preparação da base de dados"
   ]
  },
  {
   "cell_type": "code",
   "execution_count": null,
   "metadata": {},
   "outputs": [],
   "source": [
    "base_varejo_uk"
   ]
  },
  {
   "cell_type": "code",
   "execution_count": null,
   "metadata": {},
   "outputs": [],
   "source": [
    "base_modelo_aux = abs(base_varejo_uk.groupby(['Fatura','Dia_Semana','Faixa_Hora','Mês','ClienteID','Canceladas'])['Quantidade','Vendas','Preço','Código_Estoque'].agg({'Quantidade': 'sum','Vendas': 'sum','Preço':'mean','Código_Estoque':'nunique'}))\n",
    "base_modelo_aux = base_modelo_aux.rename(columns={'Preço': 'Média_Preço','Código_Estoque':'Qtd_Itens_Distintos'})\n",
    "base_modelo_aux = base_modelo_aux.reset_index()"
   ]
  },
  {
   "cell_type": "code",
   "execution_count": null,
   "metadata": {},
   "outputs": [],
   "source": [
    "base_modelo_aux"
   ]
  },
  {
   "cell_type": "code",
   "execution_count": null,
   "metadata": {},
   "outputs": [],
   "source": [
    "top50_percent_produtos = df_produtos2[df_produtos2['%_Acc']<= 50]\n",
    "top50_percent_produtos = top50_percent_produtos.reset_index()\n",
    "top50_percent_produtos"
   ]
  },
  {
   "cell_type": "code",
   "execution_count": null,
   "metadata": {},
   "outputs": [],
   "source": [
    "lista_produtos = list(top50_percent_produtos['Código_Estoque'])\n",
    "lista_produtos"
   ]
  },
  {
   "cell_type": "code",
   "execution_count": null,
   "metadata": {},
   "outputs": [],
   "source": [
    "pivot_table = abs(pd.pivot_table(base_varejo_uk[base_varejo_uk['Código_Estoque'].isin(lista_produtos)], values='Quantidade', index=['Fatura','Dia_Semana','Faixa_Hora','Mês','ClienteID','Canceladas'], columns='Código_Estoque', aggfunc='sum'))\n",
    "pivot_table = pivot_table.fillna(0)\n",
    "pivot_table = pivot_table.reset_index()"
   ]
  },
  {
   "cell_type": "code",
   "execution_count": null,
   "metadata": {},
   "outputs": [],
   "source": [
    "pivot_table "
   ]
  },
  {
   "cell_type": "code",
   "execution_count": null,
   "metadata": {},
   "outputs": [],
   "source": [
    "base_modelo = pd.merge(base_modelo_aux, pivot_table , on = ['Fatura','Dia_Semana','Faixa_Hora','Mês','ClienteID','Canceladas'], how = 'left')\n",
    "base_modelo = base_modelo.fillna(0)"
   ]
  },
  {
   "cell_type": "code",
   "execution_count": null,
   "metadata": {},
   "outputs": [],
   "source": [
    "#alterando tipo para int\n",
    "base_modelo['20971'] = base_modelo['20971'].astype('int')\n",
    "base_modelo['21108'] = base_modelo['21108'].astype('int')\n",
    "base_modelo['22423'] = base_modelo['22423'].astype('int')\n",
    "base_modelo['23113'] = base_modelo['23113'].astype('int')\n",
    "base_modelo['23166'] = base_modelo['23166'].astype('int')\n",
    "base_modelo['23843'] = base_modelo['23843'].astype('int')\n",
    "base_modelo['47566B'] = base_modelo['47566B'].astype('int')\n",
    "base_modelo['48185'] = base_modelo['48185'].astype('int')\n",
    "base_modelo['71477'] = base_modelo['71477'].astype('int')\n",
    "base_modelo['79323P'] = base_modelo['79323P'].astype('int')\n",
    "base_modelo['79323W'] = base_modelo['79323W'].astype('int')\n",
    "base_modelo['84078A'] = base_modelo['84078A'].astype('int')\n",
    "base_modelo['85123A'] = base_modelo['85123A'].astype('int')"
   ]
  },
  {
   "cell_type": "code",
   "execution_count": null,
   "metadata": {},
   "outputs": [],
   "source": [
    "base_modelo.info()"
   ]
  },
  {
   "cell_type": "code",
   "execution_count": null,
   "metadata": {},
   "outputs": [],
   "source": [
    "base_modelo"
   ]
  },
  {
   "cell_type": "markdown",
   "metadata": {},
   "source": [
    "#### 7.2 Treinamento do modelo"
   ]
  },
  {
   "cell_type": "code",
   "execution_count": null,
   "metadata": {},
   "outputs": [],
   "source": [
    "# Split X e Y\n",
    "X = base_modelo.drop(['Canceladas','Fatura'],axis = 1)\n",
    "y = base_modelo.Canceladas\n",
    "\n",
    "#split treino e teste\n",
    "X_train, X_test, y_train, y_test = train_test_split(X, y, test_size=0.3, random_state=1)"
   ]
  },
  {
   "cell_type": "code",
   "execution_count": null,
   "metadata": {},
   "outputs": [],
   "source": [
    "cat_features = ['Dia_Semana', 'Faixa_Hora','ClienteID']"
   ]
  },
  {
   "cell_type": "code",
   "execution_count": null,
   "metadata": {},
   "outputs": [],
   "source": [
    "# modelo\n",
    "modelo = CatBoostClassifier(iterations=100, depth=5, learning_rate=0.1, cat_features=cat_features)"
   ]
  },
  {
   "cell_type": "code",
   "execution_count": null,
   "metadata": {},
   "outputs": [],
   "source": [
    "# Defina a grade de hiperparâmetros a serem testados\n",
    "params = {\n",
    "    'iterations': [100, 200, 300, 400, 500],\n",
    "    'learning_rate': [0.01, 0.1, 1],\n",
    "    'depth': [4, 6, 8],\n",
    "    }   "
   ]
  },
  {
   "cell_type": "code",
   "execution_count": null,
   "metadata": {},
   "outputs": [],
   "source": [
    "#Criar objeto KFold com StratifiedKFold para validação cruzada\n",
    "skf = StratifiedKFold(n_splits=5, shuffle=True, random_state = 1)\n",
    "\n",
    "#Criar um objeto de grade de busca com GridSearchCV, a partir dos parâmetros que definimos\n",
    "grid_search = GridSearchCV(modelo, param_grid = params, scoring = 'roc_auc',\n",
    "                           cv = skf.split(X_train, y_train))\n",
    "\n",
    "#Treinar o modelo com o grid search\n",
    "grid_search.fit(X_train, y_train)\n",
    "\n",
    "# Printar a melhor combinação de hiperparâmetros\n",
    "print('Melhores hiperparâmetros:')\n",
    "print(grid_search.best_params_)"
   ]
  },
  {
   "cell_type": "code",
   "execution_count": null,
   "metadata": {},
   "outputs": [],
   "source": [
    "# Gera um modelo com as melhores combinações de hiperparâmetros\n",
    "modelo = CatBoostClassifier(iterations=grid_search.best_params_['iterations'],\n",
    "                        learning_rate=grid_search.best_params_['learning_rate'],\n",
    "                        depth=grid_search.best_params_['depth'],\n",
    "                        cat_features=cat_features)\n",
    "\n",
    "#l2_leaf_reg=grid_search.best_params_['l2_leaf_reg'],\n",
    "#border_count=grid_search.best_params_['border_count']\n",
    "\n",
    "# Fita o modelo com o dataset de treino\n",
    "modelo.fit(X_train, y_train)"
   ]
  },
  {
   "cell_type": "code",
   "execution_count": null,
   "metadata": {},
   "outputs": [],
   "source": [
    "# previsão com os dados de teste\n",
    "y_pred = modelo.predict(X_test)\n",
    "\n",
    "# Calcular e printar métricas\n",
    "# métricas\n",
    "print(\"Acuracidade:\\n\")\n",
    "print(\"Acurácia no conjunto de treino: {:.3f}\".format(modelo.score(X_train, y_train)))\n",
    "print(\"Acurácia no conjunto de teste: {:.3f}\".format(modelo.score(X_test, y_test)))\n",
    "print()\n",
    "\n",
    "# O classification report traz diversas métricas interessantes, en formato de tabela, de forma simples\n",
    "print(\"Métricas de classificação:\\n\")\n",
    "print(classification_report(y_test, y_pred))\n",
    "print()\n",
    "\n",
    "# A matriz de confusão mostra de forma fácil os dados\n",
    "# Verdadeiros Positivos | Falsos Positivos\n",
    "# Falsos Negativos | Verdadeiros Negativos\n",
    "print(\"Matriz de confusão:\\n\")\n",
    "print(confusion_matrix(y_test, y_pred))\n",
    "\n",
    "# Plotar importância das features\n",
    "# Avalia quão importante é cada variável para as decisões que a árvore fornece\n",
    "print()\n",
    "print(\"Importância das variáveis:\\n\")\n",
    "feature_scores = pd.Series(modelo.feature_importances_, index=X.columns).sort_values(ascending=False)\n",
    "print(feature_scores)\n",
    "\n",
    "# plot\n",
    "sns.barplot(x=feature_scores, y=feature_scores.index)\n",
    "\n",
    "# labels\n",
    "plt.xlabel('Importância das variáveis')\n",
    "plt.ylabel('Variáveis')\n",
    "\n",
    "# título\n",
    "plt.title(\"Importância das variáveis\")\n",
    "\n",
    "# visualização\n",
    "plt.show()"
   ]
  },
  {
   "cell_type": "code",
   "execution_count": null,
   "metadata": {},
   "outputs": [],
   "source": [
    "# Converter os rótulos \"Não\" para 0 e \"Sim\" para 1\n",
    "y_true_binary = [0 if label == \"Não\" else 1 for label in y_test]\n",
    "y_pred_binary = [0 if label == \"Não\" else 1 for label in y_pred]\n",
    "\n",
    "# Calcular a curva ROC\n",
    "fpr, tpr, thresholds = roc_curve(y_true_binary, y_pred_binary)\n",
    "\n",
    "# Calcular a área sob a curva ROC (ROC AUC)\n",
    "roc_auc = roc_auc_score(y_true_binary, y_pred_binary)"
   ]
  },
  {
   "cell_type": "code",
   "execution_count": null,
   "metadata": {},
   "outputs": [],
   "source": [
    "# Plotar a curva ROC\n",
    "plt.figure(figsize=(8, 6))\n",
    "plt.plot(fpr, tpr, color='blue', label=f'ROC curve (AUC = {roc_auc:.2f})')\n",
    "plt.plot([0, 1], [0, 1], color='red', linestyle='--')\n",
    "plt.xlabel('Taxa de falso positivo')\n",
    "plt.ylabel('Taxa de verdadeiro positivo')\n",
    "plt.title('Área sob a curva ROC')\n",
    "plt.legend()\n",
    "plt.show()"
   ]
  },
  {
   "cell_type": "markdown",
   "metadata": {},
   "source": [
    "### 8.0 Modelo serializado"
   ]
  },
  {
   "cell_type": "code",
   "execution_count": null,
   "metadata": {},
   "outputs": [],
   "source": [
    "# Salve o modelo em um arquivo pickle\n",
    "with open('modelo.pkl', 'wb') as f:\n",
    "    pickle.dump(modelo, f)"
   ]
  }
 ],
 "metadata": {
  "kernelspec": {
   "display_name": "Python 3",
   "language": "python",
   "name": "python3"
  },
  "language_info": {
   "codemirror_mode": {
    "name": "ipython",
    "version": 3
   },
   "file_extension": ".py",
   "mimetype": "text/x-python",
   "name": "python",
   "nbconvert_exporter": "python",
   "pygments_lexer": "ipython3",
   "version": "3.7.6"
  }
 },
 "nbformat": 4,
 "nbformat_minor": 4
}
